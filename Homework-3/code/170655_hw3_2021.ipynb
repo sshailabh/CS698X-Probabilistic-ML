{
  "nbformat": 4,
  "nbformat_minor": 0,
  "metadata": {
    "colab": {
      "name": "170655-HW3.ipynb",
      "provenance": [],
      "toc_visible": true
    },
    "kernelspec": {
      "name": "python3",
      "display_name": "Python 3"
    },
    "language_info": {
      "name": "python"
    }
  },
  "cells": [
    {
      "cell_type": "markdown",
      "metadata": {
        "id": "FN--R0UrzORF"
      },
      "source": [
        "#Question 5"
      ]
    },
    {
      "cell_type": "code",
      "metadata": {
        "colab": {
          "base_uri": "https://localhost:8080/"
        },
        "id": "x83EbNDlsVYC",
        "outputId": "c7697c2e-338b-46f0-d298-de731501ac84"
      },
      "source": [
        "#\n",
        "import numpy as np\n",
        "import matplotlib.pyplot as plt\n",
        "np.random.seed(111)\n",
        "\n",
        "p_x_sample=[] # list storing samples\n",
        "mean=0\n",
        "sigma=2\n",
        "M = 25\n",
        "N=10000\n",
        "while len(p_x_sample) < N:\n",
        "  x = np.random.normal(mean,sigma) #sampling from proposal distribution\n",
        "  u = np.random.uniform(0, M * np.exp(-0.5*((x - mean)/sigma)**2)/(np.sqrt(2*np.pi)*sigma)) #sampling from uniform \n",
        "  if u <= np.exp(np.sin(x)): #condition of acceptance in rejection sampling\n",
        "    p_x_sample.append(x)\n",
        "\n",
        "print(\"Number of samples\",len(p_x_sample))"
      ],
      "execution_count": 19,
      "outputs": [
        {
          "output_type": "stream",
          "text": [
            "Number of samples 10000\n"
          ],
          "name": "stdout"
        }
      ]
    },
    {
      "cell_type": "code",
      "metadata": {
        "id": "hLHzgKAI7EI_",
        "colab": {
          "base_uri": "https://localhost:8080/",
          "height": 404
        },
        "outputId": "cd87f96d-017a-4e92-f78b-0ade6fa5ecfd"
      },
      "source": [
        "#plot\n",
        "fig, ax = plt.subplots(figsize=(8,6))\n",
        "ax.hist(p_x_sample, bins=np.arange(-np.pi,np.pi,0.01))#bins with 0.01 and from -pi to pi\n",
        "ax.set_xlabel('x value')\n",
        "ax.set_ylabel('Number of samples')\n",
        "ax.set_title('Plot for rejection sampling with M=25')\n",
        "plt.savefig(\"question_5.png\")"
      ],
      "execution_count": 20,
      "outputs": [
        {
          "output_type": "display_data",
          "data": {
            "image/png": "[encoded data removed]",
            "text/plain": [
              "<Figure size 576x432 with 1 Axes>"
            ]
          },
          "metadata": {
            "tags": [],
            "needs_background": "light"
          }
        }
      ]
    },
    {
      "cell_type": "code",
      "metadata": {
        "id": "coFUI8Tazqgj"
      },
      "source": [
        ""
      ],
      "execution_count": null,
      "outputs": []
    }
  ]
}